{
 "cells": [
  {
   "cell_type": "markdown",
   "metadata": {},
   "source": [
    "# Project : EDA\n",
    "\n",
    "## Introduction to Problem statement\n",
    "\n",
    "Over the past decade, bicycle-sharing systems have been growing in number and popularity in cities across the world. Bicycle-sharing systems allow users to rent bicycles for short trips, typically 30 minutes or less. Thanks to the rise in information technologies, it is easy for a user of the system to access a dock within the system to unlock or return bicycles. These technologies also provide a wealth of data that can be used to explore how these bike-sharing systems are used.\n",
    "\n",
    "In this project, you will perform an exploratory analysis on data provided by [Motivate](https://www.motivateco.com/), a bike-share system provider for many major cities in the United States. You will compare the system usage between three large cities: New York City, Chicago, and Washington, DC. You will also see if there are any differences within each system for those users that are registered, regular users and those users that are short-term, casual users."
   ]
  },
  {
   "cell_type": "markdown",
   "metadata": {},
   "source": [
    "<a id='pose_questions'></a>\n",
    "## So whats the  Questions?\n",
    "\n",
    "Before looking at the bike sharing data, you should start by asking questions you might want to understand about the bike share data. Consider, for example, if you were working for Motivate. What kinds of information would you want to know about in order to make smarter business decisions? If you were a user of the bike-share service, what factors might influence how you would want to use the service?\n",
    "\n",
    "**Question 1**: Write at least two questions related to bike sharing that you think could be answered by data.\n",
    "\n",
    "**Answer**: \n",
    "1. How does bike sharing used during rainy season? Comparison between different season profit?\n",
    "2. Analyzing when its mostly used weekdays or weekends.\n",
    "3. Which particular station in the city where it is highly used ?\n",
    "4. How registered user get preference over causal and regular user?\n",
    "5. Which age group is accessing this facilities higher?\n",
    "\n"
   ]
  },
  {
   "cell_type": "markdown",
   "metadata": {},
   "source": [
    "<a id='wrangling'></a>\n",
    "## Data Collection and Wrangling\n",
    "\n",
    "Now it's time to collect and explore our data. In this project, we will focus on the record of individual trips taken in 2016 from our selected cities: New York City, Chicago, and Washington, DC. Each of these cities has a page where we can freely download the trip data.:\n",
    "\n",
    "- New York City (Citi Bike): [Link](https://www.citibikenyc.com/system-data)\n",
    "- Chicago (Divvy): [Link](https://www.divvybikes.com/system-data)\n",
    "- Washington, DC (Capital Bikeshare): [Link](https://www.capitalbikeshare.com/system-data)\n",
    "\n",
    "If you visit these pages, you will notice that each city has a different way of delivering its data. Chicago updates with new data twice a year, Washington DC is quarterly, and New York City is monthly. **However, you do not need to download the data yourself.** The data has already been collected for you in the `/data/` folder of the project files. While the original data for 2016 is spread among multiple files for each city, the files in the `/data/` folder collect all of the trip data for the year into one file per city. Some data wrangling of inconsistencies in timestamp format within each city has already been performed for you. In addition, a random 2% sample of the original data is taken to make the exploration more manageable. \n",
    "\n",
    "**Question 2**: However, there is still a lot of data for us to investigate, so it's a good idea to start off by looking at one entry from each of the cities we're going to analyze. Run the first code cell below to load some packages and functions that you'll be using in your analysis. Then, complete the second code cell to print out the first trip recorded from each of the cities (the second line of each data file)."
   ]
  },
  {
   "cell_type": "code",
   "execution_count": 1,
   "metadata": {},
   "outputs": [],
   "source": [
    "# Define Libraries\n",
    "import csv\n",
    "from datetime import datetime\n",
    "from pprint import pprint\n",
    "import matplotlib.pyplot as plt\n",
    "%matplotlib inline \n",
    "import numpy as np\n",
    "import calendar\n",
    "import pandas as pd"
   ]
  },
  {
   "cell_type": "code",
   "execution_count": 2,
   "metadata": {},
   "outputs": [
    {
     "name": "stdout",
     "output_type": "stream",
     "text": [
      "City: NYC\n",
      "{'bikeid': '17109',\n",
      " 'birth year': '',\n",
      " 'end station id': '401',\n",
      " 'end station latitude': '40.72019576',\n",
      " 'end station longitude': '-73.98997825',\n",
      " 'end station name': 'Allen St & Rivington St',\n",
      " 'gender': '0',\n",
      " 'start station id': '532',\n",
      " 'start station latitude': '40.710451',\n",
      " 'start station longitude': '-73.960876',\n",
      " 'start station name': 'S 5 Pl & S 4 St',\n",
      " 'starttime': '01/01/16 00:09',\n",
      " 'stoptime': '01/01/16 00:23',\n",
      " 'tripduration': '839',\n",
      " 'usertype': 'Customer'}\n",
      "\n",
      "City: Chicago\n",
      "{'bikeid': '2295',\n",
      " 'birthyear': '1990',\n",
      " 'from_station_id': '156',\n",
      " 'from_station_name': 'Clark St & Wellington Ave',\n",
      " 'gender': 'Male',\n",
      " 'starttime': '3/31/2016 23:30',\n",
      " 'stoptime': '3/31/2016 23:46',\n",
      " 'to_station_id': '166',\n",
      " 'to_station_name': 'Ashland Ave & Wrightwood Ave',\n",
      " 'trip_id': '9080545',\n",
      " 'tripduration': '926',\n",
      " 'usertype': 'Subscriber'}\n",
      "\n",
      "City: Washington\n",
      "{'Bike number': 'W20842',\n",
      " 'Duration (ms)': '427387',\n",
      " 'End date': '3/31/2016 23:04',\n",
      " 'End station': 'Georgia Ave and Fairmont St NW',\n",
      " 'End station number': '31207',\n",
      " 'Member Type': 'Registered',\n",
      " 'Start date': '3/31/2016 22:57',\n",
      " 'Start station': 'Park Rd & Holmead Pl NW',\n",
      " 'Start station number': '31602'}\n",
      "\n"
     ]
    }
   ],
   "source": [
    "def print_first_point(file_path):\n",
    "    \n",
    "     # Open the CSV file for reading\n",
    "    with open(file_path, \"r\") as csv_file:\n",
    "        \n",
    "        # Extract the city name from the file path\n",
    "        city_name = file_path.split(\"/\")[-1].split(\"-\")[0]\n",
    "        print(f\"City: {city_name}\")\n",
    "\n",
    "        # Create a CSV DictReader to read the file\n",
    "        input_file = csv.DictReader(csv_file)\n",
    "        # Read the first row from the file\n",
    "        row = next(input_file)\n",
    "        # Pretty print the first row\n",
    "        pprint(dict(row))\n",
    "        \n",
    "        # Return the city name and the first row\n",
    "        return city_name, row\n",
    "    \n",
    "# List of file paths for different city bike-share data\n",
    "file_path = [\n",
    "    \"./data/NYC-CitiBike-2016.csv\",\n",
    "    \"./data/Chicago-Divvy-2016.csv\",\n",
    "    \"./data/Washington-CapitalBikeshare-2016.csv\"\n",
    "]\n",
    "\n",
    "# Iterate through each file path and print the first point for each city\n",
    "for file in file_path:\n",
    "    city_name, row = print_first_point(file)\n",
    "    print()   "
   ]
  },
  {
   "cell_type": "markdown",
   "metadata": {},
   "source": [
    "### Calculating summary statistics (e.g., mean, median, standard deviation)."
   ]
  },
  {
   "cell_type": "code",
   "execution_count": 3,
   "metadata": {},
   "outputs": [
    {
     "name": "stdout",
     "output_type": "stream",
     "text": [
      "\n",
      "Summary Statistics for NYC:\n",
      "        tripduration  start station id  start station latitude  \\\n",
      "count  276798.000000     276798.000000           276798.000000   \n",
      "mean      948.755580       1066.602945               40.737666   \n",
      "std      6231.652595       1185.223048                0.024515   \n",
      "min        61.000000         72.000000               40.445350   \n",
      "25%       382.000000        339.000000               40.720828   \n",
      "50%       631.000000        465.000000               40.739017   \n",
      "75%      1070.000000       2003.000000               40.755003   \n",
      "max   2363758.000000       3440.000000               40.804213   \n",
      "\n",
      "       start station longitude  end station id  end station latitude  \\\n",
      "count            276798.000000   276798.000000         276798.000000   \n",
      "mean                -73.986233     1049.084433             40.736912   \n",
      "std                   0.016319     1174.303122              0.136310   \n",
      "min                 -74.017134       72.000000              0.000000   \n",
      "25%                 -73.997249      336.000000             40.720664   \n",
      "50%                 -73.988084      462.000000             40.739017   \n",
      "75%                 -73.977225      546.000000             40.754666   \n",
      "max                 -73.929891     3440.000000             40.804213   \n",
      "\n",
      "       end station longitude        bikeid    birth year        gender  \n",
      "count          276798.000000 276798.000000 245137.000000 276798.000000  \n",
      "mean              -73.985645  21015.015972   1977.683385      1.099202  \n",
      "std                 0.244122   3616.241267     11.707865      0.568291  \n",
      "min               -74.033759  14529.000000   1885.000000      0.000000  \n",
      "25%               -73.997901  17852.000000   1970.000000      1.000000  \n",
      "50%               -73.988557  21263.000000   1980.000000      1.000000  \n",
      "75%               -73.977387  24016.000000   1987.000000      1.000000  \n",
      "max                 0.000000  27327.000000   2000.000000      2.000000  \n",
      "\n",
      "Summary Statistics for Chicago:\n",
      "              trip_id       bikeid  tripduration  from_station_id  \\\n",
      "count    72131.000000 72131.000000  72131.000000     72131.000000   \n",
      "mean  10801971.498149  2966.389472    993.817762       178.197391   \n",
      "std    1261951.067194  1674.490919   1970.898086       127.282634   \n",
      "min    8547222.000000     1.000000     60.000000         2.000000   \n",
      "25%    9730023.000000  1523.000000    408.000000        74.000000   \n",
      "50%   10822726.000000  3026.000000    701.000000       157.000000   \n",
      "75%   11895101.500000  4381.000000   1174.000000       268.000000   \n",
      "max   12979092.000000  5919.000000  86365.000000       620.000000   \n",
      "\n",
      "       to_station_id    birthyear  \n",
      "count   72131.000000 54986.000000  \n",
      "mean      177.351264  1980.423799  \n",
      "std       127.515457    10.823393  \n",
      "min         2.000000  1899.000000  \n",
      "25%        73.000000  1975.000000  \n",
      "50%       156.000000  1984.000000  \n",
      "75%       268.000000  1989.000000  \n",
      "max       620.000000  2000.000000  \n",
      "\n",
      "Summary Statistics for Washington:\n",
      "        Duration (ms)  Start station number  End station number\n",
      "count    66326.000000          66326.000000        66326.000000\n",
      "mean   1135972.413548          31308.700826        31311.488406\n",
      "std    2379664.795757            208.405881          206.319636\n",
      "min      60633.000000          31000.000000        31000.000000\n",
      "25%     406002.500000          31203.000000        31208.000000\n",
      "50%     691049.500000          31249.000000        31248.000000\n",
      "75%    1172582.750000          31403.000000        31404.000000\n",
      "max   85350982.000000          32219.000000        32219.000000\n"
     ]
    }
   ],
   "source": [
    "def calculate_summary_statistics(file_paths):\n",
    "    \n",
    "    # Set the display format for floating-point numbers\n",
    "    pd.set_option('display.float_format',lambda x:'%3f' % x)\n",
    "    \n",
    "     # Iterate through each file path provided\n",
    "    for file_path in file_paths:\n",
    "        # Read the CSV file into a DataFrame\n",
    "        df = pd.read_csv(file_path)\n",
    "        # Extract the city name from the file path\n",
    "        city_name = file_path.split(\"/\")[-1].split(\"-\")[0]\n",
    "       \n",
    "        \n",
    "         # Print the header for the summary statistics\n",
    "        print(f\"\\nSummary Statistics for {city_name}:\")\n",
    "        # Display the summary statistics excluding non-numeric columns\n",
    "        print(df.describe())\n",
    "\n",
    "# List of file paths for different city bike-share data\n",
    "file_paths = [\n",
    "    \"./data/NYC-CitiBike-2016.csv\",\n",
    "    \"./data/Chicago-Divvy-2016.csv\",\n",
    "    \"./data/Washington-CapitalBikeshare-2016.csv\"\n",
    "]\n",
    "\n",
    "\n",
    "# Call the function to calculate and print summary statistics for each city\n",
    "calculate_summary_statistics(file_paths)"
   ]
  },
  {
   "cell_type": "markdown",
   "metadata": {},
   "source": [
    "If everything has been filled out correctly, you should see below the printout of each city name (which has been parsed from the data file name) that the first trip has been parsed in the form of a dictionary. When you set up a `DictReader` object, the first row of the data file is normally interpreted as column names. Every other row in the data file will use those column names as keys, as a dictionary is generated for each row.\n",
    "\n",
    "This will be useful since we can refer to quantities by an easily-understandable label instead of just a numeric index. For example, if we have a trip stored in the variable `row`, then we would rather get the trip duration from `row['duration']` instead of `row[0]`.\n",
    "\n",
    "<a id='condensing'></a>\n",
    "### Condensing the Trip Data\n",
    "\n",
    "It should also be observable from the above printout that each city provides different information. Even where the information is the same, the column names and formats are sometimes different. To make things as simple as possible when we get to the actual exploration, we should trim and clean the data. Cleaning the data makes sure that the data formats across the cities are consistent, while trimming focuses only on the parts of the data we are most interested in to make the exploration easier to work with.\n",
    "\n",
    "You will generate new data files with five values of interest for each trip: trip duration, starting month, starting hour, day of the week, and user type. Each of these may require additional wrangling depending on the city:\n",
    "\n",
    "- **Duration**: This has been given to us in seconds (New York, Chicago) or milliseconds (Washington). A more natural unit of analysis will be if all the trip durations are given in terms of minutes.\n",
    "- **Month**, **Hour**, **Day of Week**: Ridership volume is likely to change based on the season, time of day, and whether it is a weekday or weekend. Use the start time of the trip to obtain these values. The New York City data includes the seconds in their timestamps, while Washington and Chicago do not. The [`datetime`](https://docs.python.org/3/library/datetime.html) package will be very useful here to make the needed conversions.\n",
    "- **User Type**: It is possible that users who are subscribed to a bike-share system will have different patterns of use compared to users who only have temporary passes. Washington divides its users into two types: 'Registered' for users with annual, monthly, and other longer-term subscriptions, and 'Casual', for users with 24-hour, 3-day, and other short-term passes. The New York and Chicago data uses 'Subscriber' and 'Customer' for these groups, respectively. For consistency, you will convert the Washington labels to match the other two.\n",
    "\n",
    "\n",
    "**Question 3a**: Complete the helper functions in the code cells below to address each of the cleaning tasks described above."
   ]
  },
  {
   "cell_type": "code",
   "execution_count": 4,
   "metadata": {},
   "outputs": [],
   "source": [
    "def duration_in_mins(datum, city):\n",
    "\n",
    "    # Convert duration to minutes based on the city\n",
    "    if city == \"Washington\":\n",
    "        # Extract the duration from the 'Duration (ms)' column and convert to minutes\n",
    "        duration = float(datum['Duration (ms)'])/(1000*60)\n",
    "        \n",
    "    elif city ==\"Chicago\":\n",
    "         # Extract the duration from the 'tripduration' column and convert to minutes\n",
    "        duration = float(datum['tripduration'])/60\n",
    "        \n",
    "    elif city == \"NYC\": \n",
    "        # Extract the duration from the 'tripduration' column and convert to minutes\n",
    "        duration = float(datum['tripduration'])/60\n",
    "        \n",
    "    # Return the duration in minutes\n",
    "    return duration\n",
    "        "
   ]
  },
  {
   "cell_type": "code",
   "execution_count": 5,
   "metadata": {},
   "outputs": [],
   "source": [
    "def time_of_trip(datum, city):\n",
    "    # Define date formats commonly used in the datasets\n",
    "    date_formats = ['%m/%d/%y %H:%M:%S', '%m/%d/%Y %H:%M:%S', '%m/%d/%y %H:%M', '%m/%d/%Y %H:%M']\n",
    "\n",
    "    # Extract the relevant date string based on the city\n",
    "    if city == 'NYC':\n",
    "        date_string = datum['starttime']\n",
    "        \n",
    "    elif city == 'Chicago':\n",
    "        date_string = datum['starttime']\n",
    "        \n",
    "    elif city == 'Washington':\n",
    "        date_string = datum['Start date']\n",
    "        \n",
    "    trip_datetime = None\n",
    "    \n",
    "    # Attempt to parse the date string using different formats\n",
    "    for date_format in date_formats:   \n",
    "   \n",
    "        try:\n",
    "            trip_datetime = datetime.strptime(date_string, date_format)\n",
    "            break\n",
    "        \n",
    "        except ValueError:\n",
    "            pass\n",
    "    \n",
    "    # If the date string does not match any of the expected formats, raise an error\n",
    "    if trip_datetime is None:\n",
    "        raise ValueError(\"Date string does not match any of the expected formats.\")\n",
    "    \n",
    "    # Extract month, hour, and day of the week from the parsed datetime\n",
    "    month = trip_datetime.month\n",
    "    hour = trip_datetime.hour\n",
    "    day_of_week = trip_datetime.strftime(\"%A\")\n",
    "    \n",
    "     # Return a tuple containing month, hour, and day of the week\n",
    "    return (month, hour, day_of_week)\n",
    "\n"
   ]
  },
  {
   "cell_type": "code",
   "execution_count": 6,
   "metadata": {},
   "outputs": [],
   "source": [
    "def type_of_user(datum, city):\n",
    "    \n",
    "    # Determine the type of user based on the city and user information in the data\n",
    "\n",
    "    user_type = None\n",
    "    \n",
    "    if city == \"Washington\":\n",
    "        \n",
    "        # Check the \"Member Type\" field to categorize users as Subscriber or Customer\n",
    "        if datum[\"Member Type\"] == \"Registered\":\n",
    "            user_type = \"Subscriber\"\n",
    "            \n",
    "        elif datum[\"Member Type\"]== \"Casual\":\n",
    "            user_type = \"Customer\"\n",
    "       \n",
    "    elif city ==\"Chicago\":\n",
    "        # Extract the user type from the \"usertype\" field\n",
    "        user_type = str(datum[\"usertype\"])\n",
    "                  \n",
    "    elif city == \"NYC\": \n",
    "        \n",
    "        # Check the \"usertype\" field to categorize users as Subscriber or Customer\n",
    "        if datum[\"usertype\"] == \"Subscriber\":\n",
    "            user_type = \"Subscriber\"\n",
    "            \n",
    "        else: \n",
    "            user_type = \"Customer\"\n",
    "            \n",
    "    # Return the determined user type    \n",
    "    return user_type"
   ]
  },
  {
   "cell_type": "markdown",
   "metadata": {},
   "source": [
    "**Question 3b**: Now, use the helper functions you wrote above to create a condensed data file for each city consisting only of the data fields indicated above. In the `/examples/` folder, you will see an example datafile from the [Bay Area Bike Share](http://www.bayareabikeshare.com/open-data) before and after conversion. Make sure that your output is formatted to be consistent with the example file."
   ]
  },
  {
   "cell_type": "code",
   "execution_count": 7,
   "metadata": {},
   "outputs": [],
   "source": [
    "def condense_data(in_file, out_file, city):\n",
    "    \n",
    "    # Open the input and output files\n",
    "    with open(out_file, 'w') as f_out, open(in_file, 'r') as f_in:\n",
    "        \n",
    "        # Define the output column names\n",
    "        out_colnames = ['duration', 'month', 'hour', 'day_of_week', 'user_type']      \n",
    "        # Create a CSV DictWriter for the output file and write the header\n",
    "        trip_writer = csv.DictWriter(f_out, fieldnames = out_colnames)\n",
    "        trip_writer.writeheader()\n",
    "        \n",
    "        # Create a CSV DictReader for the input file\n",
    "        trip_reader = csv.DictReader(f_in)\n",
    "       \n",
    "        # Iterate through each row in the input file\n",
    "        for row in trip_reader:\n",
    "           \n",
    "            # Create a new dictionary to store condensed information\n",
    "            new_point = {}\n",
    "            # Calculate duration in minutes using the duration_in_mins function\n",
    "            duration = duration_in_mins(dict(row),city)\n",
    "            # Extract month, hour, and day of the week using the time_of_trip function\n",
    "            month,hour,day_of_week = time_of_trip(dict(row), city)\n",
    "            # Determine user type using the type_of_user function\n",
    "            user_type = type_of_user(dict(row), city) \n",
    "            # Populate the new dictionary with condensed information\n",
    "            new_point = {\"duration\": duration,\n",
    "                        \"month\": month,\n",
    "                        \"hour\": hour,\n",
    "                        \"day_of_week\": day_of_week,\n",
    "                        \"user_type\": user_type}\n",
    "            # Write the new_point dictionary to the output file\n",
    "            trip_writer.writerow(new_point)\n",
    "            "
   ]
  },
  {
   "cell_type": "code",
   "execution_count": 8,
   "metadata": {},
   "outputs": [
    {
     "name": "stdout",
     "output_type": "stream",
     "text": [
      "City: Washington\n",
      "{'day_of_week': 'Thursday',\n",
      " 'duration': '7.123116666666666',\n",
      " 'hour': '22',\n",
      " 'month': '3',\n",
      " 'user_type': 'Subscriber'}\n",
      "City: Chicago\n",
      "{'day_of_week': 'Thursday',\n",
      " 'duration': '15.433333333333334',\n",
      " 'hour': '23',\n",
      " 'month': '3',\n",
      " 'user_type': 'Subscriber'}\n",
      "City: NYC\n",
      "{'day_of_week': 'Friday',\n",
      " 'duration': '13.983333333333333',\n",
      " 'hour': '0',\n",
      " 'month': '1',\n",
      " 'user_type': 'Customer'}\n"
     ]
    }
   ],
   "source": [
    "# Run this cell to check your work\n",
    "city_info = {'Washington': {'in_file': './data/Washington-CapitalBikeshare-2016.csv',\n",
    "                            'out_file': './data/Washington-2016-Summary.csv'},\n",
    "             'Chicago': {'in_file': './data/Chicago-Divvy-2016.csv',\n",
    "                         'out_file': './data/Chicago-2016-Summary.csv'},\n",
    "             'NYC': {'in_file': './data/NYC-CitiBike-2016.csv',\n",
    "                     'out_file': './data/NYC-2016-Summary.csv'}}\n",
    "\n",
    "for city, filenames in city_info.items():\n",
    "    condense_data(filenames['in_file'], filenames['out_file'], city)\n",
    "    print_first_point(filenames['out_file'])"
   ]
  },
  {
   "cell_type": "markdown",
   "metadata": {},
   "source": [
    "\n",
    "\n",
    "<a id='eda'></a>\n",
    "## Exploratory Data Analysis\n",
    "\n",
    "Now that you have the data collected and wrangled, you're ready to start exploring the data. In this section you will write some code to compute descriptive statistics from the data. You will also be introduced to the `matplotlib` library to create some basic histograms of the data.\n",
    "\n",
    "<a id='statistics'></a>\n",
    "### Statistics\n",
    "\n",
    "First, let's compute some basic counts. The first cell below contains a function that uses the csv module to iterate through a provided data file, returning the number of trips made by subscribers and customers. The second cell runs this function on the example Bay Area data in the `/examples/` folder. Modify the cells to answer the question below.\n",
    "\n",
    "**Question 4a**: Which city has the highest number of trips? Which city has the highest proportion of trips made by subscribers? Which city has the highest proportion of trips made by short-term customers?\n"
   ]
  },
  {
   "cell_type": "code",
   "execution_count": 9,
   "metadata": {},
   "outputs": [],
   "source": [
    "def number_of_trips(filename):\n",
    "    \n",
    "    # Initialize counters for subscribers, customers, and total trips\n",
    "    n_subscribers = 0\n",
    "    n_customers = 0\n",
    "    n_total = 0\n",
    "    \n",
    "    # Open the CSV file for reading\n",
    "    with open(filename,\"r\")as csv_file:\n",
    "        \n",
    "         # Create a CSV DictReader for the file\n",
    "        trip_reader = csv.DictReader(csv_file)\n",
    "        # Iterate through each row in the file\n",
    "        for row in trip_reader:\n",
    "            \n",
    "            # Extract user type information from the row\n",
    "            user_type = row['user_type']\n",
    "            \n",
    "            # Update counters based on user type\n",
    "            if user_type == \"Customer\":\n",
    "                n_customers += 1\n",
    "                \n",
    "            elif user_type == \"Subscriber\":\n",
    "                n_subscribers +=1\n",
    "             # Increment the total trip counter\n",
    "            n_total +=1\n",
    "\n",
    "         # Return the counts of subscribers, customers, and total trips\n",
    "        return(n_subscribers, n_customers, n_total)\n",
    "    \n",
    "def proportion_users(filename):\n",
    "    # Get the counts of subscribers, customers, and total trips\n",
    "    n_subscribers, n_customers, n_total = number_of_trips(filename)\n",
    "    \n",
    "    # Calculate the proportion of subscribers and customers\n",
    "    proportion_of_subscribers = round((n_subscribers / n_total) * 100, 2)\n",
    "    proportion_of_customers = round((n_customers / n_total) * 100, 2)\n",
    "    # Return the proportions as a tuple\n",
    "    return (proportion_of_subscribers, proportion_of_customers)        \n",
    "\n"
   ]
  },
  {
   "cell_type": "code",
   "execution_count": 10,
   "metadata": {},
   "outputs": [
    {
     "name": "stdout",
     "output_type": "stream",
     "text": [
      "(5666, 633, 6299)\n",
      "NYC: (245896, 30902, 276798)\n",
      "Proportion of Subscribers in NYC: 88.84%  Proportion of Customers in NYC: 11.16%\n",
      "\n",
      "Washington: (51753, 14573, 66326)\n",
      "Proportion of Subscribers in Washington: 78.03%  Proportion of Customers in Washington: 21.97%\n",
      "\n",
      "Chicago: (54982, 17149, 72131)\n",
      "Proportion of Subscribers in Chicago: 76.23%  Proportion of Customers in Chicago: 23.77%\n",
      "\n"
     ]
    }
   ],
   "source": [
    "## Run  this and the modify  previous cell to answer Question 4a. Remember to run ##\n",
    "## the function on the cleaned data files you created from Question 3.      ##\n",
    "\n",
    "data_file = './examples/BayArea-Y3-Summary.csv'\n",
    "print(number_of_trips(data_file))\n",
    "\n",
    "data_file_NYC = './data/NYC-2016-Summary.csv'\n",
    "\n",
    "data_file_Washington = './data/Washington-2016-Summary.csv'\n",
    "\n",
    "data_file_Chicago = './data/Chicago-2016-Summary.csv'\n",
    "\n",
    "tempo = proportion_users(data_file_NYC)\n",
    "print(\"NYC: {}\".format(number_of_trips(data_file_NYC)))\n",
    "print(\"Proportion of Subscribers in NYC: {}%  Proportion of Customers in NYC: {}%\\n\".format(tempo[0], tempo[1]))\n",
    "\n",
    "tempo = proportion_users(data_file_Washington)\n",
    "print(\"Washington: {}\".format(number_of_trips(data_file_Washington)))\n",
    "print(\"Proportion of Subscribers in Washington: {}%  Proportion of Customers in Washington: {}%\\n\".format(tempo[0], tempo[1]))\n",
    "\n",
    "tempo = proportion_users(data_file_Chicago)\n",
    "print(\"Chicago: {}\".format(number_of_trips(data_file_Chicago)))\n",
    "print(\"Proportion of Subscribers in Chicago: {}%  Proportion of Customers in Chicago: {}%\\n\".format(tempo[0], tempo[1]))\n"
   ]
  },
  {
   "cell_type": "markdown",
   "metadata": {},
   "source": [
    "> **Tip**: In order to add additional cells to a notebook, you can use the \"Insert Cell Above\" and \"Insert Cell Below\" options from the menu bar above. There is also an icon in the toolbar for adding new cells, with additional icons for moving the cells up and down the document. By default, new cells are of the code type; you can also specify the cell type (e.g. Code or Markdown) of selected cells from the Cell menu or the dropdown in the toolbar.\n",
    "\n",
    "Now, you will write your own code to continue investigating properties of the data.\n",
    "\n",
    "**Question 4b**: Bike-share systems are designed for riders to take short trips. Most of the time, users are allowed to take trips of 30 minutes or less with no additional charges, with overage charges made for trips of longer than that duration. What is the average trip length for each city? What proportion of rides made in each city are longer than 30 minutes?\n"
   ]
  },
  {
   "cell_type": "code",
   "execution_count": 11,
   "metadata": {
    "scrolled": true
   },
   "outputs": [
    {
     "name": "stdout",
     "output_type": "stream",
     "text": [
      "Average trip length Washington: 18, Proportion of long trips: 10.8\n",
      "Average trip length Chicago: 16, Proportion of long trips: 8.3\n",
      "Average trip length NYC: 15, Proportion of long trips: 7.3\n"
     ]
    }
   ],
   "source": [
    "def avg_trip_length(filename):\n",
    "    \n",
    "    # Initialize counters for long trips, short trips, total trips, and total duration\n",
    "\n",
    "    long_trips = 0\n",
    "    short_trips = 0\n",
    "    total_trips = 0\n",
    "    total_duration = 0\n",
    "    \n",
    "    # Open the CSV file for reading\n",
    "    with open(filename,\"r\") as csv_file:\n",
    "        # Create a CSV DictReader for the file\n",
    "        trip_reader = csv.DictReader(csv_file)\n",
    "        # Iterate through each row in the file\n",
    "        for row in trip_reader:\n",
    "            # Extract the duration from the row and convert it to float\n",
    "            duration = float(row['duration'])\n",
    "             # Update the total duration and total trips counters\n",
    "            total_duration += duration\n",
    "            total_trips += 1\n",
    "             # Update the counters for long and short trips based on duration\n",
    "            if duration > 30:\n",
    "                long_trips += 1\n",
    "            else:\n",
    "                short_trips += 1\n",
    "        # Calculate the average trip length        \n",
    "        avg_trip = int(total_duration / total_trips)\n",
    "        # Calculate the proportion of long trips\n",
    "        proportion = (long_trips / total_trips) * 100\n",
    "         \n",
    "     # Return the average trip length and proportion of long trips as a tuple    \n",
    "    return avg_trip, round(proportion, 1)  \n",
    "\n",
    "\n",
    "# Example usage for Washington\n",
    "data_file_Washington = './data/Washington-2016-Summary.csv'\n",
    "temp = avg_trip_length(data_file_Washington)\n",
    "print(\"Average trip length Washington: {}, Proportion of long trips: {}\".format(temp[0], temp[1]))\n",
    "\n",
    "# Example usage for Chicago\n",
    "data_file_Chicago = './data/Chicago-2016-Summary.csv'\n",
    "temp = avg_trip_length(data_file_Chicago)\n",
    "print(\"Average trip length Chicago: {}, Proportion of long trips: {}\".format(temp[0], temp[1]))\n",
    "\n",
    "# Example usage for NYC\n",
    "data_file_NYC = './data/NYC-2016-Summary.csv'\n",
    "temp = avg_trip_length(data_file_NYC)\n",
    "print(\"Average trip length NYC: {}, Proportion of long trips: {}\".format(temp[0], temp[1]))\n"
   ]
  },
  {
   "cell_type": "markdown",
   "metadata": {},
   "source": [
    "**Question 4c**: Dig deeper into the question of trip duration based on ridership. Choose one city. Within that city, which type of user takes longer rides on average: Subscribers or Customers?\n",
    "\n",
    "**Answer**: Following is the Answer:\n",
    "City Selected: NYC,\n",
    "Average trip duration Customers: 32.8 \n",
    "Average trip duration Subscribers: 13.7 ; "
   ]
  },
  {
   "cell_type": "code",
   "execution_count": 12,
   "metadata": {},
   "outputs": [
    {
     "name": "stdout",
     "output_type": "stream",
     "text": [
      "City Selected NYC, Average trip duration Subscribers: 13.7 ; Average trip duration Customers: 32.8 \n"
     ]
    }
   ],
   "source": [
    "def answer4c(filename):\n",
    "    \n",
    "    # Initialize counters for total duration and total trips for both subscribers and customers\n",
    "    total_duration_subscriber = 0\n",
    "    total_duration_customer = 0\n",
    "    total_trips_subscriber = 0\n",
    "    total_trips_customer = 0\n",
    "\n",
    "    # Open the CSV file for reading     \n",
    "    with open(filename,\"r\") as csv_file:\n",
    "        \n",
    "        # Create a CSV DictReader for the file\n",
    "        trip_reader = csv.DictReader(csv_file)\n",
    "        #print(trip_reader.fieldnames)\n",
    "         \n",
    "        # Iterate through each row in the file  \n",
    "        for row in trip_reader:\n",
    "            \n",
    "            # Extract duration and user type from the row\n",
    "            duration = float(row['duration'])\n",
    "            user_type = row['user_type']\n",
    "            \n",
    "             # Update counters based on user type\n",
    "            if user_type == \"Subscriber\":\n",
    "                total_duration_subscriber += duration\n",
    "                total_trips_subscriber += 1\n",
    "                \n",
    "            elif user_type == \"Customer\":\n",
    "                total_duration_customer += duration\n",
    "                total_trips_customer += 1\n",
    "                \n",
    "    # Calculate average trip duration for subscribers and customers    \n",
    "    avg_trip_duration_subscribers = total_duration_subscriber / total_trips_subscriber\n",
    "    avg_trip_duration_customers = total_duration_customer / total_trips_customer\n",
    "    \n",
    "     # Return the average trip durations as a tuple\n",
    "    return round(avg_trip_duration_subscribers, 1),  round(avg_trip_duration_customers, 1)\n",
    "                \n",
    "\n",
    "# Example usage for NYC    \n",
    "data_file_NYC = './data/NYC-2016-Summary.csv'\n",
    "temp = answer4c(data_file_NYC)\n",
    "print(\"City Selected NYC, Average trip duration Subscribers: {} ; Average trip duration Customers: {} \".format(temp[0], temp[1]))\n"
   ]
  },
  {
   "cell_type": "markdown",
   "metadata": {},
   "source": [
    "<a id='visualizations'></a>\n",
    "### Visualizations\n",
    "\n",
    "The last set of values that you computed should have pulled up an interesting result. While the mean trip time for Subscribers is well under 30 minutes, the mean trip time for Customers is actually _above_ 30 minutes! It will be interesting for us to look at how the trip times are distributed. In order to do this, a new library will be introduced here, `matplotlib`. Run the cell below to load the library and to generate an example plot."
   ]
  },
  {
   "cell_type": "code",
   "execution_count": 13,
   "metadata": {},
   "outputs": [
    {
     "data": {
      "image/png": "[encoded data removed]",
      "text/plain": [
       "<Figure size 640x480 with 1 Axes>"
      ]
     },
     "metadata": {},
     "output_type": "display_data"
    }
   ],
   "source": [
    "# example histogram, data taken from bay area sample\n",
    "data = [ 7.65,  8.92,  7.42,  5.50, 16.17,  4.20,  8.98,  9.62, 11.48, 14.33,\n",
    "        19.02, 21.53,  3.90,  7.97,  2.62,  2.67,  3.08, 14.40, 12.90,  7.83,\n",
    "        25.12,  8.30,  4.93, 12.43, 10.60,  6.17, 10.88,  4.78, 15.15,  3.53,\n",
    "         9.43, 13.32, 11.72,  9.85,  5.22, 15.10,  3.95,  3.17,  8.78,  1.88,\n",
    "         4.55, 12.68, 12.38,  9.78,  7.63,  6.45, 17.38, 11.90, 11.52,  8.63,]\n",
    "plt.hist(data)\n",
    "plt.title('Distribution of Trip Durations')\n",
    "plt.xlabel('Duration (m)')\n",
    "plt.show()"
   ]
  },
  {
   "cell_type": "markdown",
   "metadata": {},
   "source": [
    "In the above cell, we collected fifty trip times in a list, and passed this list as the first argument to the `.hist()` function. This function performs the computations and creates plotting objects for generating a histogram, but the plot is actually not rendered until the `.show()` function is executed. The `.title()` and `.xlabel()` functions provide some labeling for plot context.\n",
    "\n",
    "You will now use these functions to create a histogram of the trip times for the city you selected in question 4c. Don't separate the Subscribers and Customers for now: just collect all of the trip times and plot them."
   ]
  },
  {
   "cell_type": "code",
   "execution_count": 14,
   "metadata": {},
   "outputs": [
    {
     "data": {
      "image/png": "[encoded data removed]",
      "text/plain": [
       "<Figure size 640x480 with 1 Axes>"
      ]
     },
     "metadata": {},
     "output_type": "display_data"
    }
   ],
   "source": [
    "def plot_graph(filename,city):\n",
    "    \n",
    "     # Initialize an empty list to store trip durations\n",
    "    durations = []\n",
    "    \n",
    "    # Open the CSV file for reading \n",
    "    with open(filename,\"r\") as csv_file:\n",
    "        \n",
    "        # Create a CSV DictReader for the file\n",
    "        trip_reader = csv.DictReader(csv_file)\n",
    "        # Iterate through each row in the file\n",
    "        for row in trip_reader:\n",
    "            \n",
    "            # Extract and convert the duration from the row, then add it to the list\n",
    "            duration = float(row[\"duration\"])\n",
    "            durations.append(duration)\n",
    "        # Plot a histogram of trip durations\n",
    "        plt.hist(durations)\n",
    "        # Set the title, xlabel, and show the plot\n",
    "        plt.title(\"Distribution of Trip Duration for Washington\")\n",
    "        plt.xlabel(\"Duration(m)\")\n",
    "        plt.show()\n",
    "        \n",
    "# Example usage for Washington\n",
    "data_file_Washington = './data/Washington-2016-Summary.csv'\n",
    "plot_graph(data_file_Washington, 'Washington')"
   ]
  },
  {
   "cell_type": "markdown",
   "metadata": {},
   "source": [
    "If you followed the use of the `.hist()` and `.show()` functions exactly like in the example, you're probably looking at a plot that's completely unexpected. The plot consists of one extremely tall bar on the left, maybe a very short second bar, and a whole lot of empty space in the center and right. Take a look at the duration values on the x-axis. This suggests that there are some highly infrequent outliers in the data. Instead of reprocessing the data, you will use additional parameters with the `.hist()` function to limit the range of data that is plotted. Documentation for the function can be found [[here]](https://matplotlib.org/devdocs/api/_as_gen/matplotlib.pyplot.hist.html#matplotlib.pyplot.hist).\n",
    "\n",
    "**Question 5**: Use the parameters of the `.hist()` function to plot the distribution of trip times for the Subscribers in your selected city. Do the same thing for only the Customers. Add limits to the plots so that only trips of duration less than 75 minutes are plotted. As a bonus, set the plots up so that bars are in five-minute wide intervals. For each group, where is the peak of each distribution? How would you describe the shape of each distribution?\n",
    "\n",
    "**Answer**: \n",
    "For Subscribers: write answer\n",
    "For Customers: write answer\n",
    "\n",
    "Since both the graph are dense on one side therefore they are Right Skewed Distribution. "
   ]
  },
  {
   "cell_type": "code",
   "execution_count": 15,
   "metadata": {},
   "outputs": [
    {
     "data": {
      "image/png": "[encoded data removed]",
      "text/plain": [
       "<Figure size 640x480 with 1 Axes>"
      ]
     },
     "metadata": {},
     "output_type": "display_data"
    }
   ],
   "source": [
    "def plot_subscriber(filename):\n",
    "    \n",
    "    # Initialize an empty list to store trip durations of subscribers\n",
    "    duration_subscriber =[]\n",
    "    \n",
    "    # Open the CSV file for reading\n",
    "    with open(filename,\"r\") as csv_file:\n",
    "        # Create a CSV DictReader for the file\n",
    "        trip_reader = csv.DictReader(csv_file)\n",
    "        \n",
    "        # Iterate through each row in the file\n",
    "        for row in trip_reader:\n",
    "            # Extract duration and user type from the row\n",
    "            duration = float(row[\"duration\"])\n",
    "            user_type = row[\"user_type\"]\n",
    "            \n",
    "            # Check if the user type is \"Subscriber\" and add the duration to the list\n",
    "            if user_type == \"Subscriber\":\n",
    "                duration_subscriber.append(duration)\n",
    "            else:\n",
    "                pass\n",
    "        \n",
    "        # Plot a histogram of trip durations for subscribers\n",
    "        plt.hist(duration_subscriber, bins = np.arange(-5,80,5))\n",
    "        \n",
    "        # Set the title, xlabel, ylabel, and xticks for the plot\n",
    "        plt.title(\"Plot of Trip Duration of Subscribers in Washington\")\n",
    "        plt.xlabel(\"Duration(m)\")\n",
    "        plt.ylabel(\"Number of Trips\")\n",
    "        plt.xticks(np.arange(0,80,5))\n",
    "     \n",
    "        plt.show()\n",
    "        \n",
    "# Example usage for Washington           \n",
    "data_file_Washington = './data/Washington-2016-Summary.csv'\n",
    "plot_subscriber(data_file_Washington)\n"
   ]
  },
  {
   "cell_type": "code",
   "execution_count": 16,
   "metadata": {},
   "outputs": [
    {
     "data": {
      "image/png": "[encoded data removed]",
      "text/plain": [
       "<Figure size 640x480 with 1 Axes>"
      ]
     },
     "metadata": {},
     "output_type": "display_data"
    }
   ],
   "source": [
    "def plot_customer(filename):\n",
    "    \n",
    "    # Initialize an empty list to store trip durations of customers\n",
    "    duration_customer =[]\n",
    "    \n",
    "    # Open the CSV file for reading\n",
    "    with open(filename,\"r\") as csv_file:\n",
    "        \n",
    "        # Create a CSV DictReader for the file\n",
    "        trip_reader = csv.DictReader(csv_file)\n",
    "        \n",
    "        # Iterate through each row in the file\n",
    "        for row in trip_reader:\n",
    "            # Extract duration and user type from the row\n",
    "            duration = float(row[\"duration\"])\n",
    "            user_type = row[\"user_type\"]\n",
    "            \n",
    "            # Check if the user type is \"Customer\" and add the duration to the list\n",
    "            if user_type == \"Customer\":\n",
    "                duration_customer.append(duration)\n",
    "            else:\n",
    "                pass\n",
    "        # Plot a histogram of trip durations for customers\n",
    "        plt.hist(duration_customer, bins = np.arange(-5,80,5))\n",
    "        \n",
    "        # Set the title, xlabel, ylabel, and xticks for the plot\n",
    "        plt.title(\"Plot of Trip Duration of Customers in Washington\")\n",
    "        plt.xlabel(\"Duration(m)\")\n",
    "        plt.ylabel(\"Number of Trips\")\n",
    "        plt.xticks(np.arange(0,80,5))\n",
    "        plt.show()\n",
    "\n",
    "# Example usage for Washington        \n",
    "data_file_Washington = './data/Washington-2016-Summary.csv'\n",
    "plot_customer(data_file_Washington)\n"
   ]
  },
  {
   "cell_type": "markdown",
   "metadata": {
    "collapsed": true
   },
   "source": [
    "<a id='eda_continued'></a>\n",
    "## Performing Your Own Analysis\n",
    "\n",
    "So far, you've performed an initial exploration into the data available. You have compared the relative volume of trips made between three U.S. cities and the ratio of trips made by Subscribers and Customers. For one of these cities, you have investigated differences between Subscribers and Customers in terms of how long a typical trip lasts. Now it is your turn to continue the exploration in a direction that you choose. Here are a few suggestions for questions to explore:\n",
    "\n",
    "- How does ridership differ by month or season? Which month / season has the highest ridership? Does the ratio of Subscriber trips to Customer trips change depending on the month or season?\n",
    "- Is the pattern of ridership different on the weekends versus weekdays? On what days are Subscribers most likely to use the system? What about Customers? Does the average duration of rides change depending on the day of the week?\n",
    "- During what time of day is the system used the most? Is there a difference in usage patterns for Subscribers and Customers?\n",
    "\n",
    "If any of the questions you posed in your answer to question 1 align with the bullet points above, this is a good opportunity to investigate one of them. As part of your investigation, you will need to create a visualization. If you want to create something other than a histogram, then you might want to consult the [Pyplot documentation](https://matplotlib.org/devdocs/api/pyplot_summary.html). In particular, if you are plotting values across a categorical variable (e.g. city, user type), a bar chart will be useful. The [documentation page for `.bar()`](https://matplotlib.org/devdocs/api/_as_gen/matplotlib.pyplot.bar.html#matplotlib.pyplot.bar) includes links at the bottom of the page with examples for you to build off of for your own use.\n",
    "\n",
    "**Question 6**: Continue the investigation by exploring another question that could be answered by the data available. Document the question you want to explore below. Your investigation should involve at least two variables and should compare at least two groups. You should also use at least one visualization as part of your explorations.\n",
    "\n",
    "**Answer**: \n",
    "write your ans"
   ]
  },
  {
   "cell_type": "code",
   "execution_count": 17,
   "metadata": {},
   "outputs": [
    {
     "data": {
      "image/png": "[encoded data removed]",
      "text/plain": [
       "<Figure size 640x480 with 1 Axes>"
      ]
     },
     "metadata": {},
     "output_type": "display_data"
    },
    {
     "name": "stdout",
     "output_type": "stream",
     "text": [
      "For Subscriber: Ridership was greater on Weekdays as compared to Weekends. Maximum ridership was on Wednesday\n"
     ]
    },
    {
     "data": {
      "image/png": "[encoded data removed]",
      "text/plain": [
       "<Figure size 640x480 with 1 Axes>"
      ]
     },
     "metadata": {},
     "output_type": "display_data"
    },
    {
     "name": "stdout",
     "output_type": "stream",
     "text": [
      "For Customer: Ridership was greater on Weekends as compared to Weekdays. Maximum ridership was on Saturday\n"
     ]
    }
   ],
   "source": [
    "def per_day_analysis(filename, usertype):\n",
    "    \n",
    "    # Define a list of weekdays and their abbreviations\n",
    "    weekdays = list(calendar.day_name)\n",
    "    weekdays_abbr = [day[:3] for day in weekdays]\n",
    "    \n",
    "    # Initialize a list to store ridership counts for each day of the week\n",
    "    ridership = [0] * len(weekdays)\n",
    "    \n",
    "    # Open the CSV file for reading\n",
    "    with open(filename, 'r') as file:\n",
    "        \n",
    "        # Create a CSV DictReader for the file\n",
    "        trip_reader = csv.DictReader(file)\n",
    "        \n",
    "        # Iterate through each row in the file\n",
    "        for row in trip_reader:\n",
    "            # Check if the user type matches the specified type\n",
    "            if row['user_type'] == usertype:\n",
    "                # Extract the day of the week from the row\n",
    "                day_of_week = row['day_of_week']\n",
    "                # Check if the day of the week is valid\n",
    "                if day_of_week in weekdays:\n",
    "                    # Increment the ridership count for the corresponding day\n",
    "                    ridership[weekdays.index(day_of_week)] += 1\n",
    "    \n",
    "    # Plot a bar chart of ridership for each day of the week\n",
    "    plt.bar(weekdays_abbr, ridership)\n",
    "    plt.xlabel('Day of the Week')\n",
    "    plt.ylabel('Ridership')\n",
    "    plt.title(f'Ridership on Different Days of the Week for {usertype} in Washington')\n",
    "    plt.show()\n",
    "    \n",
    "    # Find the index of the maximum and minimum ridership days\n",
    "    max_day_index = ridership.index(max(ridership))\n",
    "    min_day_index = ridership.index(min(ridership))\n",
    "    \n",
    "    # Determine the category of maximum and minimum ridership days\n",
    "    if weekdays[max_day_index] in ['Saturday', 'Sunday']:\n",
    "        max_day_category = 'Weekends'\n",
    "        min_day_category = 'Weekdays'\n",
    "    else:\n",
    "        max_day_category = 'Weekdays'\n",
    "        min_day_category = 'Weekends'\n",
    "    \n",
    "    # Get the names of the maximum and minimum ridership days\n",
    "    max_day = weekdays[max_day_index]\n",
    "    min_day = weekdays[min_day_index]\n",
    "    \n",
    "    # Return a summary string\n",
    "    return f\"For {usertype}: Ridership was greater on {max_day_category} as compared to {min_day_category}. Maximum ridership was on {max_day}\"\n",
    "\n",
    "# Call the method with Washington data file\n",
    "data_file_Washington = './data/Washington-2016-Summary.csv'\n",
    "\n",
    "# Call for subscriber\n",
    "print(per_day_analysis(data_file_Washington, 'Subscriber'))\n",
    "\n",
    "# Call for customer\n",
    "print(per_day_analysis(data_file_Washington, 'Customer'))\n"
   ]
  },
  {
   "cell_type": "markdown",
   "metadata": {},
   "source": [
    "<a id='conclusions'></a>\n",
    "## Conclusions\n",
    "\n",
    "Congratulations on completing the project! This is only a sampling of the data analysis process: from generating questions, wrangling the data, and to exploring the data. Normally, at this point in the data analysis process, you might want to draw conclusions about the data by performing a statistical test or fitting the data to a model for making predictions. There are also a lot of potential analyses that could be performed on the data which are not possible with only the data provided. For example, detailed location data has not been investigated. Where are the most commonly used docks? What are the most common routes? As another example, weather has potential to have a large impact on daily ridership. How much is ridership impacted when there is rain or snow? Are subscribers or customers affected more by changes in weather?\n",
    "\n",
    "\n",
    "\n",
    "\n",
    "\n"
   ]
  }
 ],
 "metadata": {
  "anaconda-cloud": {},
  "kernelspec": {
   "display_name": "Python 3 (ipykernel)",
   "language": "python",
   "name": "python3"
  },
  "language_info": {
   "codemirror_mode": {
    "name": "ipython",
    "version": 3
   },
   "file_extension": ".py",
   "mimetype": "text/x-python",
   "name": "python",
   "nbconvert_exporter": "python",
   "pygments_lexer": "ipython3",
   "version": "3.11.3"
  }
 },
 "nbformat": 4,
 "nbformat_minor": 1
}
